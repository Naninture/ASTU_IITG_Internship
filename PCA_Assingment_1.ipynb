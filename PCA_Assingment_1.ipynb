{
  "nbformat": 4,
  "nbformat_minor": 0,
  "metadata": {
    "kernelspec": {
      "display_name": "Python 3",
      "language": "python",
      "name": "python3"
    },
    "language_info": {
      "codemirror_mode": {
        "name": "ipython",
        "version": 3
      },
      "file_extension": ".py",
      "mimetype": "text/x-python",
      "name": "python",
      "nbconvert_exporter": "python",
      "pygments_lexer": "ipython3",
      "version": "3.7.3"
    },
    "colab": {
      "name": "PCA_Assingment 1.ipynb",
      "provenance": []
    }
  },
  "cells": [
    {
      "cell_type": "markdown",
      "metadata": {
        "id": "d_sA7gRbxlEf",
        "colab_type": "text"
      },
      "source": [
        "###Created By Udipta Koushik Das\n",
        "\n",
        "**Roll no: 170310007053**"
      ]
    },
    {
      "cell_type": "code",
      "metadata": {
        "id": "VBQ7a3b7wtbk",
        "colab_type": "code",
        "colab": {
          "base_uri": "https://localhost:8080/",
          "height": 35
        },
        "outputId": "946c39f1-2408-4f8c-d328-ca0054f4ed0d"
      },
      "source": [
        "pwd"
      ],
      "execution_count": 19,
      "outputs": [
        {
          "output_type": "execute_result",
          "data": {
            "application/vnd.google.colaboratory.intrinsic+json": {
              "type": "string"
            },
            "text/plain": [
              "'/content'"
            ]
          },
          "metadata": {
            "tags": []
          },
          "execution_count": 19
        }
      ]
    },
    {
      "cell_type": "code",
      "metadata": {
        "id": "E7CTzC6Mwtb2",
        "colab_type": "code",
        "colab": {}
      },
      "source": [
        "import numpy as np\n",
        "import pandas as pd\n",
        "import matplotlib.pyplot as plt"
      ],
      "execution_count": 20,
      "outputs": []
    },
    {
      "cell_type": "code",
      "metadata": {
        "id": "tU2cSko0wtcD",
        "colab_type": "code",
        "colab": {}
      },
      "source": [
        "data = pd.read_csv(\"/content/PCA_practice_dataset.csv\",header=None)"
      ],
      "execution_count": 21,
      "outputs": []
    },
    {
      "cell_type": "code",
      "metadata": {
        "id": "OZY8Y8xVwtcN",
        "colab_type": "code",
        "colab": {
          "base_uri": "https://localhost:8080/",
          "height": 439
        },
        "outputId": "00159193-55ff-4caa-c8f9-75844545d893"
      },
      "source": [
        "data"
      ],
      "execution_count": 22,
      "outputs": [
        {
          "output_type": "execute_result",
          "data": {
            "text/html": [
              "<div>\n",
              "<style scoped>\n",
              "    .dataframe tbody tr th:only-of-type {\n",
              "        vertical-align: middle;\n",
              "    }\n",
              "\n",
              "    .dataframe tbody tr th {\n",
              "        vertical-align: top;\n",
              "    }\n",
              "\n",
              "    .dataframe thead th {\n",
              "        text-align: right;\n",
              "    }\n",
              "</style>\n",
              "<table border=\"1\" class=\"dataframe\">\n",
              "  <thead>\n",
              "    <tr style=\"text-align: right;\">\n",
              "      <th></th>\n",
              "      <th>0</th>\n",
              "      <th>1</th>\n",
              "      <th>2</th>\n",
              "      <th>3</th>\n",
              "      <th>4</th>\n",
              "      <th>5</th>\n",
              "      <th>6</th>\n",
              "      <th>7</th>\n",
              "      <th>8</th>\n",
              "      <th>9</th>\n",
              "      <th>10</th>\n",
              "      <th>11</th>\n",
              "      <th>12</th>\n",
              "      <th>13</th>\n",
              "      <th>14</th>\n",
              "      <th>15</th>\n",
              "      <th>16</th>\n",
              "      <th>17</th>\n",
              "      <th>18</th>\n",
              "      <th>19</th>\n",
              "      <th>20</th>\n",
              "      <th>21</th>\n",
              "      <th>22</th>\n",
              "      <th>23</th>\n",
              "      <th>24</th>\n",
              "      <th>25</th>\n",
              "      <th>26</th>\n",
              "      <th>27</th>\n",
              "      <th>28</th>\n",
              "      <th>29</th>\n",
              "      <th>30</th>\n",
              "      <th>31</th>\n",
              "      <th>32</th>\n",
              "      <th>33</th>\n",
              "      <th>34</th>\n",
              "    </tr>\n",
              "  </thead>\n",
              "  <tbody>\n",
              "    <tr>\n",
              "      <th>0</th>\n",
              "      <td>-0.031250</td>\n",
              "      <td>0.236364</td>\n",
              "      <td>0.238095</td>\n",
              "      <td>-0.090909</td>\n",
              "      <td>0.000000</td>\n",
              "      <td>0.381818</td>\n",
              "      <td>0.326316</td>\n",
              "      <td>-0.015625</td>\n",
              "      <td>-0.125000</td>\n",
              "      <td>0.553398</td>\n",
              "      <td>0.431579</td>\n",
              "      <td>-0.015625</td>\n",
              "      <td>0.000000</td>\n",
              "      <td>0.461538</td>\n",
              "      <td>0.413043</td>\n",
              "      <td>0.000000</td>\n",
              "      <td>-0.031250</td>\n",
              "      <td>0.553398</td>\n",
              "      <td>0.493976</td>\n",
              "      <td>0.008130</td>\n",
              "      <td>-0.015385</td>\n",
              "      <td>0.553398</td>\n",
              "      <td>0.511111</td>\n",
              "      <td>0.072000</td>\n",
              "      <td>-0.187500</td>\n",
              "      <td>0.576923</td>\n",
              "      <td>0.471264</td>\n",
              "      <td>-0.033333</td>\n",
              "      <td>-0.046154</td>\n",
              "      <td>0.524752</td>\n",
              "      <td>0.410526</td>\n",
              "      <td>-0.015625</td>\n",
              "      <td>-0.187500</td>\n",
              "      <td>0.495146</td>\n",
              "      <td>0.515789</td>\n",
              "    </tr>\n",
              "    <tr>\n",
              "      <th>1</th>\n",
              "      <td>-0.031250</td>\n",
              "      <td>0.309091</td>\n",
              "      <td>0.380952</td>\n",
              "      <td>0.074380</td>\n",
              "      <td>0.129032</td>\n",
              "      <td>0.472727</td>\n",
              "      <td>0.557895</td>\n",
              "      <td>0.078125</td>\n",
              "      <td>-0.031250</td>\n",
              "      <td>0.398058</td>\n",
              "      <td>0.263158</td>\n",
              "      <td>0.015625</td>\n",
              "      <td>-0.032258</td>\n",
              "      <td>0.442308</td>\n",
              "      <td>0.326087</td>\n",
              "      <td>0.033898</td>\n",
              "      <td>-0.062500</td>\n",
              "      <td>0.533981</td>\n",
              "      <td>0.397590</td>\n",
              "      <td>-0.024390</td>\n",
              "      <td>-0.138462</td>\n",
              "      <td>0.359223</td>\n",
              "      <td>0.422222</td>\n",
              "      <td>-0.024000</td>\n",
              "      <td>0.000000</td>\n",
              "      <td>0.519231</td>\n",
              "      <td>0.425287</td>\n",
              "      <td>0.000000</td>\n",
              "      <td>0.138462</td>\n",
              "      <td>0.663366</td>\n",
              "      <td>0.368421</td>\n",
              "      <td>0.015625</td>\n",
              "      <td>0.125000</td>\n",
              "      <td>0.533981</td>\n",
              "      <td>0.368421</td>\n",
              "    </tr>\n",
              "    <tr>\n",
              "      <th>2</th>\n",
              "      <td>-0.031250</td>\n",
              "      <td>0.381818</td>\n",
              "      <td>0.261905</td>\n",
              "      <td>-0.107438</td>\n",
              "      <td>0.000000</td>\n",
              "      <td>0.527273</td>\n",
              "      <td>0.326316</td>\n",
              "      <td>0.046875</td>\n",
              "      <td>-0.031250</td>\n",
              "      <td>0.631068</td>\n",
              "      <td>0.536842</td>\n",
              "      <td>0.109375</td>\n",
              "      <td>-0.258065</td>\n",
              "      <td>0.230769</td>\n",
              "      <td>0.021739</td>\n",
              "      <td>-0.237288</td>\n",
              "      <td>-0.187500</td>\n",
              "      <td>0.495146</td>\n",
              "      <td>0.253012</td>\n",
              "      <td>-0.105691</td>\n",
              "      <td>-0.046154</td>\n",
              "      <td>0.669903</td>\n",
              "      <td>0.600000</td>\n",
              "      <td>0.072000</td>\n",
              "      <td>0.093750</td>\n",
              "      <td>0.384615</td>\n",
              "      <td>0.103448</td>\n",
              "      <td>-0.250000</td>\n",
              "      <td>-0.138462</td>\n",
              "      <td>0.425743</td>\n",
              "      <td>0.263158</td>\n",
              "      <td>-0.109375</td>\n",
              "      <td>-0.031250</td>\n",
              "      <td>0.650485</td>\n",
              "      <td>0.452632</td>\n",
              "    </tr>\n",
              "    <tr>\n",
              "      <th>3</th>\n",
              "      <td>-0.031250</td>\n",
              "      <td>0.381818</td>\n",
              "      <td>0.285714</td>\n",
              "      <td>-0.123967</td>\n",
              "      <td>-0.129032</td>\n",
              "      <td>0.309091</td>\n",
              "      <td>0.073684</td>\n",
              "      <td>-0.156250</td>\n",
              "      <td>0.093750</td>\n",
              "      <td>0.398058</td>\n",
              "      <td>0.073684</td>\n",
              "      <td>-0.218750</td>\n",
              "      <td>-0.032258</td>\n",
              "      <td>0.615385</td>\n",
              "      <td>0.434783</td>\n",
              "      <td>0.033898</td>\n",
              "      <td>-0.156250</td>\n",
              "      <td>0.533981</td>\n",
              "      <td>0.397590</td>\n",
              "      <td>-0.089431</td>\n",
              "      <td>-0.261538</td>\n",
              "      <td>0.262136</td>\n",
              "      <td>0.222222</td>\n",
              "      <td>-0.184000</td>\n",
              "      <td>-0.125000</td>\n",
              "      <td>0.519231</td>\n",
              "      <td>0.425287</td>\n",
              "      <td>-0.050000</td>\n",
              "      <td>-0.107692</td>\n",
              "      <td>0.485149</td>\n",
              "      <td>0.368421</td>\n",
              "      <td>-0.031250</td>\n",
              "      <td>-0.250000</td>\n",
              "      <td>0.203883</td>\n",
              "      <td>0.094737</td>\n",
              "    </tr>\n",
              "    <tr>\n",
              "      <th>4</th>\n",
              "      <td>-0.031250</td>\n",
              "      <td>0.381818</td>\n",
              "      <td>0.357143</td>\n",
              "      <td>-0.024793</td>\n",
              "      <td>-0.096774</td>\n",
              "      <td>0.454545</td>\n",
              "      <td>0.431579</td>\n",
              "      <td>-0.015625</td>\n",
              "      <td>-0.250000</td>\n",
              "      <td>0.398058</td>\n",
              "      <td>0.136842</td>\n",
              "      <td>-0.125000</td>\n",
              "      <td>0.000000</td>\n",
              "      <td>0.538462</td>\n",
              "      <td>0.413043</td>\n",
              "      <td>0.067797</td>\n",
              "      <td>-0.031250</td>\n",
              "      <td>0.553398</td>\n",
              "      <td>0.493976</td>\n",
              "      <td>0.008130</td>\n",
              "      <td>-0.261538</td>\n",
              "      <td>0.553398</td>\n",
              "      <td>0.400000</td>\n",
              "      <td>0.008000</td>\n",
              "      <td>-0.062500</td>\n",
              "      <td>0.480769</td>\n",
              "      <td>0.471264</td>\n",
              "      <td>-0.033333</td>\n",
              "      <td>-0.169231</td>\n",
              "      <td>0.524752</td>\n",
              "      <td>0.515789</td>\n",
              "      <td>-0.015625</td>\n",
              "      <td>-0.281250</td>\n",
              "      <td>0.495146</td>\n",
              "      <td>0.410526</td>\n",
              "    </tr>\n",
              "    <tr>\n",
              "      <th>...</th>\n",
              "      <td>...</td>\n",
              "      <td>...</td>\n",
              "      <td>...</td>\n",
              "      <td>...</td>\n",
              "      <td>...</td>\n",
              "      <td>...</td>\n",
              "      <td>...</td>\n",
              "      <td>...</td>\n",
              "      <td>...</td>\n",
              "      <td>...</td>\n",
              "      <td>...</td>\n",
              "      <td>...</td>\n",
              "      <td>...</td>\n",
              "      <td>...</td>\n",
              "      <td>...</td>\n",
              "      <td>...</td>\n",
              "      <td>...</td>\n",
              "      <td>...</td>\n",
              "      <td>...</td>\n",
              "      <td>...</td>\n",
              "      <td>...</td>\n",
              "      <td>...</td>\n",
              "      <td>...</td>\n",
              "      <td>...</td>\n",
              "      <td>...</td>\n",
              "      <td>...</td>\n",
              "      <td>...</td>\n",
              "      <td>...</td>\n",
              "      <td>...</td>\n",
              "      <td>...</td>\n",
              "      <td>...</td>\n",
              "      <td>...</td>\n",
              "      <td>...</td>\n",
              "      <td>...</td>\n",
              "      <td>...</td>\n",
              "    </tr>\n",
              "    <tr>\n",
              "      <th>8037</th>\n",
              "      <td>0.088958</td>\n",
              "      <td>0.016323</td>\n",
              "      <td>-0.213069</td>\n",
              "      <td>-0.376970</td>\n",
              "      <td>0.117490</td>\n",
              "      <td>0.074181</td>\n",
              "      <td>-0.182175</td>\n",
              "      <td>-0.286841</td>\n",
              "      <td>0.213958</td>\n",
              "      <td>0.240733</td>\n",
              "      <td>-0.029427</td>\n",
              "      <td>-0.278055</td>\n",
              "      <td>-0.035556</td>\n",
              "      <td>-0.076923</td>\n",
              "      <td>-0.240241</td>\n",
              "      <td>-0.375480</td>\n",
              "      <td>0.065695</td>\n",
              "      <td>0.013679</td>\n",
              "      <td>-0.225221</td>\n",
              "      <td>-0.349593</td>\n",
              "      <td>0.086360</td>\n",
              "      <td>0.172989</td>\n",
              "      <td>0.026766</td>\n",
              "      <td>-0.337457</td>\n",
              "      <td>-0.162639</td>\n",
              "      <td>-0.120300</td>\n",
              "      <td>-0.329808</td>\n",
              "      <td>-0.370927</td>\n",
              "      <td>-0.015385</td>\n",
              "      <td>0.135798</td>\n",
              "      <td>-0.234572</td>\n",
              "      <td>-0.281250</td>\n",
              "      <td>0.093750</td>\n",
              "      <td>0.058469</td>\n",
              "      <td>-0.158971</td>\n",
              "    </tr>\n",
              "    <tr>\n",
              "      <th>8038</th>\n",
              "      <td>-0.243556</td>\n",
              "      <td>-0.092159</td>\n",
              "      <td>-0.477827</td>\n",
              "      <td>-0.536054</td>\n",
              "      <td>-0.094557</td>\n",
              "      <td>-0.092159</td>\n",
              "      <td>-0.411973</td>\n",
              "      <td>-0.498926</td>\n",
              "      <td>-0.122852</td>\n",
              "      <td>-0.027792</td>\n",
              "      <td>-0.406185</td>\n",
              "      <td>-0.436963</td>\n",
              "      <td>-0.097883</td>\n",
              "      <td>-0.001322</td>\n",
              "      <td>-0.350815</td>\n",
              "      <td>-0.490942</td>\n",
              "      <td>-0.121778</td>\n",
              "      <td>0.008374</td>\n",
              "      <td>-0.449096</td>\n",
              "      <td>-0.465091</td>\n",
              "      <td>-0.223367</td>\n",
              "      <td>0.083375</td>\n",
              "      <td>-0.267431</td>\n",
              "      <td>-0.391450</td>\n",
              "      <td>-0.023732</td>\n",
              "      <td>0.077584</td>\n",
              "      <td>-0.261208</td>\n",
              "      <td>-0.527032</td>\n",
              "      <td>-0.012212</td>\n",
              "      <td>0.188800</td>\n",
              "      <td>-0.260264</td>\n",
              "      <td>-0.405176</td>\n",
              "      <td>-0.032324</td>\n",
              "      <td>0.009709</td>\n",
              "      <td>-0.263158</td>\n",
              "    </tr>\n",
              "    <tr>\n",
              "      <th>8039</th>\n",
              "      <td>-0.136975</td>\n",
              "      <td>-0.068480</td>\n",
              "      <td>-0.466067</td>\n",
              "      <td>-0.504132</td>\n",
              "      <td>-0.006181</td>\n",
              "      <td>-0.054545</td>\n",
              "      <td>-0.233154</td>\n",
              "      <td>-0.409244</td>\n",
              "      <td>-0.061188</td>\n",
              "      <td>-0.067961</td>\n",
              "      <td>-0.413676</td>\n",
              "      <td>-0.531250</td>\n",
              "      <td>-0.258065</td>\n",
              "      <td>-0.156723</td>\n",
              "      <td>-0.568470</td>\n",
              "      <td>-0.524712</td>\n",
              "      <td>-0.257300</td>\n",
              "      <td>-0.060520</td>\n",
              "      <td>-0.503210</td>\n",
              "      <td>-0.538484</td>\n",
              "      <td>-0.114880</td>\n",
              "      <td>0.017150</td>\n",
              "      <td>-0.306853</td>\n",
              "      <td>-0.465869</td>\n",
              "      <td>-0.223425</td>\n",
              "      <td>-0.168585</td>\n",
              "      <td>-0.566658</td>\n",
              "      <td>-0.532634</td>\n",
              "      <td>-0.279224</td>\n",
              "      <td>-0.223097</td>\n",
              "      <td>-0.539991</td>\n",
              "      <td>-0.534244</td>\n",
              "      <td>-0.181512</td>\n",
              "      <td>-0.053079</td>\n",
              "      <td>-0.416328</td>\n",
              "    </tr>\n",
              "    <tr>\n",
              "      <th>8040</th>\n",
              "      <td>-0.163077</td>\n",
              "      <td>-0.090909</td>\n",
              "      <td>-0.476190</td>\n",
              "      <td>-0.517050</td>\n",
              "      <td>-0.096774</td>\n",
              "      <td>-0.090909</td>\n",
              "      <td>-0.359223</td>\n",
              "      <td>-0.437500</td>\n",
              "      <td>-0.250000</td>\n",
              "      <td>-0.029126</td>\n",
              "      <td>-0.443434</td>\n",
              "      <td>-0.437500</td>\n",
              "      <td>-0.096774</td>\n",
              "      <td>0.000000</td>\n",
              "      <td>-0.408295</td>\n",
              "      <td>-0.444381</td>\n",
              "      <td>-0.250000</td>\n",
              "      <td>0.063719</td>\n",
              "      <td>-0.349398</td>\n",
              "      <td>-0.463415</td>\n",
              "      <td>-0.230769</td>\n",
              "      <td>-0.013951</td>\n",
              "      <td>-0.355556</td>\n",
              "      <td>-0.456000</td>\n",
              "      <td>-0.031250</td>\n",
              "      <td>0.130414</td>\n",
              "      <td>-0.292378</td>\n",
              "      <td>-0.450000</td>\n",
              "      <td>-0.052876</td>\n",
              "      <td>0.029703</td>\n",
              "      <td>-0.288810</td>\n",
              "      <td>-0.406250</td>\n",
              "      <td>-0.031250</td>\n",
              "      <td>0.087379</td>\n",
              "      <td>-0.263158</td>\n",
              "    </tr>\n",
              "    <tr>\n",
              "      <th>8041</th>\n",
              "      <td>-0.166118</td>\n",
              "      <td>-0.164594</td>\n",
              "      <td>-0.556392</td>\n",
              "      <td>-0.647674</td>\n",
              "      <td>-0.169776</td>\n",
              "      <td>-0.150238</td>\n",
              "      <td>-0.585595</td>\n",
              "      <td>-0.604441</td>\n",
              "      <td>-0.166118</td>\n",
              "      <td>-0.067961</td>\n",
              "      <td>-0.481442</td>\n",
              "      <td>-0.561677</td>\n",
              "      <td>-0.151104</td>\n",
              "      <td>-0.064778</td>\n",
              "      <td>-0.447366</td>\n",
              "      <td>-0.570026</td>\n",
              "      <td>-0.177632</td>\n",
              "      <td>-0.027080</td>\n",
              "      <td>-0.525681</td>\n",
              "      <td>-0.603765</td>\n",
              "      <td>-0.159515</td>\n",
              "      <td>-0.027080</td>\n",
              "      <td>-0.340350</td>\n",
              "      <td>-0.486314</td>\n",
              "      <td>-0.126647</td>\n",
              "      <td>0.056679</td>\n",
              "      <td>-0.333333</td>\n",
              "      <td>-0.577192</td>\n",
              "      <td>-0.138462</td>\n",
              "      <td>0.002605</td>\n",
              "      <td>-0.268696</td>\n",
              "      <td>-0.505757</td>\n",
              "      <td>-0.126647</td>\n",
              "      <td>-0.070008</td>\n",
              "      <td>-0.326316</td>\n",
              "    </tr>\n",
              "  </tbody>\n",
              "</table>\n",
              "<p>8042 rows × 35 columns</p>\n",
              "</div>"
            ],
            "text/plain": [
              "            0         1         2   ...        32        33        34\n",
              "0    -0.031250  0.236364  0.238095  ... -0.187500  0.495146  0.515789\n",
              "1    -0.031250  0.309091  0.380952  ...  0.125000  0.533981  0.368421\n",
              "2    -0.031250  0.381818  0.261905  ... -0.031250  0.650485  0.452632\n",
              "3    -0.031250  0.381818  0.285714  ... -0.250000  0.203883  0.094737\n",
              "4    -0.031250  0.381818  0.357143  ... -0.281250  0.495146  0.410526\n",
              "...        ...       ...       ...  ...       ...       ...       ...\n",
              "8037  0.088958  0.016323 -0.213069  ...  0.093750  0.058469 -0.158971\n",
              "8038 -0.243556 -0.092159 -0.477827  ... -0.032324  0.009709 -0.263158\n",
              "8039 -0.136975 -0.068480 -0.466067  ... -0.181512 -0.053079 -0.416328\n",
              "8040 -0.163077 -0.090909 -0.476190  ... -0.031250  0.087379 -0.263158\n",
              "8041 -0.166118 -0.164594 -0.556392  ... -0.126647 -0.070008 -0.326316\n",
              "\n",
              "[8042 rows x 35 columns]"
            ]
          },
          "metadata": {
            "tags": []
          },
          "execution_count": 22
        }
      ]
    },
    {
      "cell_type": "markdown",
      "metadata": {
        "id": "Oiz0thgFwtca",
        "colab_type": "text"
      },
      "source": [
        "### Covariance matrix of data"
      ]
    },
    {
      "cell_type": "code",
      "metadata": {
        "id": "3n7gxnb7wtcc",
        "colab_type": "code",
        "colab": {}
      },
      "source": [
        "cov = np.cov(data)"
      ],
      "execution_count": 23,
      "outputs": []
    },
    {
      "cell_type": "code",
      "metadata": {
        "id": "a4lUMRCKwtck",
        "colab_type": "code",
        "colab": {
          "base_uri": "https://localhost:8080/",
          "height": 34
        },
        "outputId": "cf2afdb4-ab05-428c-9116-1abddbe7c33e"
      },
      "source": [
        "cov.shape"
      ],
      "execution_count": 24,
      "outputs": [
        {
          "output_type": "execute_result",
          "data": {
            "text/plain": [
              "(8042, 8042)"
            ]
          },
          "metadata": {
            "tags": []
          },
          "execution_count": 24
        }
      ]
    },
    {
      "cell_type": "markdown",
      "metadata": {
        "id": "ZMjRCxLMwtcu",
        "colab_type": "text"
      },
      "source": [
        "### Eigenvalues and Eigenvectors of covariance matrix"
      ]
    },
    {
      "cell_type": "code",
      "metadata": {
        "id": "P-Qez1sdwtcw",
        "colab_type": "code",
        "colab": {}
      },
      "source": [
        "e_val,e_vec = np.linalg.eig(cov)"
      ],
      "execution_count": 25,
      "outputs": []
    },
    {
      "cell_type": "code",
      "metadata": {
        "id": "9YVHqeCDwtc4",
        "colab_type": "code",
        "colab": {
          "base_uri": "https://localhost:8080/",
          "height": 34
        },
        "outputId": "4b349da6-f12e-4a77-9968-52cab9a25a3c"
      },
      "source": [
        "e_val.shape"
      ],
      "execution_count": 26,
      "outputs": [
        {
          "output_type": "execute_result",
          "data": {
            "text/plain": [
              "(8042,)"
            ]
          },
          "metadata": {
            "tags": []
          },
          "execution_count": 26
        }
      ]
    },
    {
      "cell_type": "code",
      "metadata": {
        "id": "dDO3pXrjwtdC",
        "colab_type": "code",
        "colab": {}
      },
      "source": [
        "eig_vec_ls = []\n",
        "for i in range(e_vec.shape[1]):\n",
        "    e = np.matrix(data).T@e_vec[:,i]\n",
        "    e = e/e_val[i]\n",
        "    eig_vec_ls.append(np.ravel(e))"
      ],
      "execution_count": 27,
      "outputs": []
    },
    {
      "cell_type": "markdown",
      "metadata": {
        "id": "kDawob8VwtdJ",
        "colab_type": "text"
      },
      "source": [
        "## Principal Components"
      ]
    },
    {
      "cell_type": "code",
      "metadata": {
        "id": "PXusmXA_wtdL",
        "colab_type": "code",
        "colab": {}
      },
      "source": [
        "sort_index = np.argsort(e_val)\n",
        "t_val = np.arange(0.9,0.98,0.01)\n",
        "t_val = t_val.round(2)\n",
        "sort_index = sort_index[::-1]\n",
        "e_val_sum = np.sum(e_val)\n",
        "temp_sum=0\n",
        "prin_e_val=[]\n",
        "prin_e_vec=[]\n",
        "t=0.9\n",
        "i=0\n",
        "prin_comp=[]\n",
        "while t<0.98:\n",
        "    while temp_sum<t*e_val_sum :\n",
        "        prin_e_val.append(e_val[sort_index[i]])\n",
        "        prin_e_vec.append(eig_vec_ls[sort_index[i]])\n",
        "        temp_sum += e_val[sort_index[i]]\n",
        "        i += 1\n",
        "    prin_comp.append(i)\n",
        "    t+=0.01"
      ],
      "execution_count": 28,
      "outputs": []
    },
    {
      "cell_type": "code",
      "metadata": {
        "id": "3VHT5QoPwtdU",
        "colab_type": "code",
        "colab": {
          "base_uri": "https://localhost:8080/",
          "height": 34
        },
        "outputId": "2d4a2ec2-5369-4f1f-fdc7-c16f3547fb01"
      },
      "source": [
        "prin_comp"
      ],
      "execution_count": 29,
      "outputs": [
        {
          "output_type": "execute_result",
          "data": {
            "text/plain": [
              "[4, 5, 5, 6, 6, 7, 7, 9]"
            ]
          },
          "metadata": {
            "tags": []
          },
          "execution_count": 29
        }
      ]
    },
    {
      "cell_type": "code",
      "metadata": {
        "id": "a1ugv3aTwtde",
        "colab_type": "code",
        "colab": {
          "base_uri": "https://localhost:8080/",
          "height": 153
        },
        "outputId": "670c7591-3d10-419f-f70b-07b696382017"
      },
      "source": [
        "for i in range(len(t_val)):\n",
        "    print(\"Number of principal components at threshold {} is {}\".format(t_val[i],prin_comp[i]))"
      ],
      "execution_count": 30,
      "outputs": [
        {
          "output_type": "stream",
          "text": [
            "Number of principal components at threshold 0.9 is 4\n",
            "Number of principal components at threshold 0.91 is 5\n",
            "Number of principal components at threshold 0.92 is 5\n",
            "Number of principal components at threshold 0.93 is 6\n",
            "Number of principal components at threshold 0.94 is 6\n",
            "Number of principal components at threshold 0.95 is 7\n",
            "Number of principal components at threshold 0.96 is 7\n",
            "Number of principal components at threshold 0.97 is 9\n"
          ],
          "name": "stdout"
        }
      ]
    },
    {
      "cell_type": "markdown",
      "metadata": {
        "id": "S6mveH7kwtdn",
        "colab_type": "text"
      },
      "source": [
        "##Scree Plotting"
      ]
    },
    {
      "cell_type": "markdown",
      "metadata": {
        "id": "OBZSIm5Swtdo",
        "colab_type": "text"
      },
      "source": [
        "Plotting number of principal components against threshold values"
      ]
    },
    {
      "cell_type": "code",
      "metadata": {
        "id": "GCmyXdw0wtdq",
        "colab_type": "code",
        "colab": {
          "base_uri": "https://localhost:8080/",
          "height": 295
        },
        "outputId": "403ced3e-b795-4a33-e00a-4405dce91fa1"
      },
      "source": [
        "plt.plot(prin_comp,t_val)\n",
        "plt.title(\"Scree Plot\")\n",
        "plt.xlabel(\"Number of principal components\")\n",
        "plt.ylabel(\"Threshold values\")\n",
        "plt.show()"
      ],
      "execution_count": 31,
      "outputs": [
        {
          "output_type": "display_data",
          "data": {
            "image/png": "[encoded data removed]",
            "text/plain": [
              "<Figure size 432x288 with 1 Axes>"
            ]
          },
          "metadata": {
            "tags": [],
            "needs_background": "light"
          }
        }
      ]
    },
    {
      "cell_type": "code",
      "metadata": {
        "id": "-VDhC8xW2dqb",
        "colab_type": "code",
        "colab": {}
      },
      "source": [
        ""
      ],
      "execution_count": null,
      "outputs": []
    }
  ]
}